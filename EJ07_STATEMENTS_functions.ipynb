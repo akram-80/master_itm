{
  "cells": [
    {
      "cell_type": "markdown",
      "metadata": {
        "id": "view-in-github",
        "colab_type": "text"
      },
      "source": [
        "<a href=\"https://colab.research.google.com/github/akram-80/master_itm/blob/main/EJ07_STATEMENTS_functions.ipynb\" target=\"_parent\"><img src=\"https://colab.research.google.com/assets/colab-badge.svg\" alt=\"Open In Colab\"/></a>"
      ]
    },
    {
      "cell_type": "markdown",
      "metadata": {
        "id": "_LeCPytF-0UN"
      },
      "source": [
        "## Working with functions"
      ]
    },
    {
      "cell_type": "markdown",
      "metadata": {
        "id": "IGsqk0Ub-0UR"
      },
      "source": [
        "Create a function that receives a list of numeric values (positive and negative) and returns a second list of values greater than zero.\n",
        "with the values greater than zero"
      ]
    },
    {
      "cell_type": "code",
      "execution_count": 8,
      "metadata": {
        "colab": {
          "base_uri": "https://localhost:8080/"
        },
        "id": "35L0QGoK-0UR",
        "outputId": "e466b457-e2c8-4fe4-8907-1b5563930171"
      },
      "outputs": [
        {
          "output_type": "stream",
          "name": "stdout",
          "text": [
            "[1, 2, 3, 5]\n"
          ]
        }
      ],
      "source": [
        "list1 = [1,-1,2,3,-3,5]\n",
        "list2 = []\n",
        "for val in list1:\n",
        "     if val > 0:\n",
        "       list2 .append(val)\n",
        "list2.sort()\n",
        "\n",
        "print (list2)\n"
      ]
    },
    {
      "cell_type": "code",
      "execution_count": 9,
      "metadata": {
        "id": "3G_KmzlY-0US"
      },
      "outputs": [],
      "source": [
        "def positive_values(v_lis):\n",
        "  lis2 = []\n",
        "  for val in v_lis:\n",
        "    if val > 0:\n",
        "      lis2.append(val)\n",
        "      list2.sort()\n",
        "      return lis2"
      ]
    },
    {
      "cell_type": "markdown",
      "metadata": {
        "id": "jzMsyuEi-0US"
      },
      "source": [
        "Create a function that receives a dictionary like the following:\n",
        "customer = {'cod_customer': 'A100', 'contract_type': 'A', 'invoice': 50}\n",
        "\n",
        "The contract_type field can take the values; 'A', 'B' or 'C' and the invoice is an integer greater than zero.\n",
        "The function must validate that if the contract_type is 'A' the invoice cannot be greater than 50.\n",
        "If the validation is true, return True, otherwise False (contract_type is 'A' and invoice > 50)."
      ]
    },
    {
      "cell_type": "code",
      "execution_count": null,
      "metadata": {
        "id": "1inNtq3x-0UT"
      },
      "outputs": [],
      "source": []
    },
    {
      "cell_type": "code",
      "execution_count": null,
      "metadata": {
        "id": "qI9pZkSK-0UT"
      },
      "outputs": [],
      "source": []
    },
    {
      "cell_type": "markdown",
      "metadata": {
        "id": "k9rgLkm8-0UT"
      },
      "source": [
        "Create a function to validate with the above function the following list:\n",
        "customers = [   \n",
        "{'cod_customer': 'A100', 'contract_type': 'A', 'invoice': 51},  \n",
        "{'cod_customer': 'A100', 'contract_type': 'A', 'invoice': 22},  \n",
        "{'cod_customer': 'A100', 'contract_type': 'B', 'invoice': 71},  \n",
        "{'cod_customer': 'A100', 'contract_type': 'C', 'invoice': 51},  \n",
        "{'cod_customer': 'A100', 'contract_type': 'A', 'invoice': 61}  \n",
        "   ]   \n",
        "The result of each validation add it to each dictionary in a field named 'validation'."
      ]
    },
    {
      "cell_type": "code",
      "execution_count": null,
      "metadata": {
        "id": "lK9KE3-r-0UU"
      },
      "outputs": [],
      "source": []
    },
    {
      "cell_type": "code",
      "execution_count": null,
      "metadata": {
        "id": "E3c0X3Lj-0UU"
      },
      "outputs": [],
      "source": []
    },
    {
      "cell_type": "code",
      "execution_count": null,
      "metadata": {
        "id": "-VGMNOZO-0UU"
      },
      "outputs": [],
      "source": []
    },
    {
      "cell_type": "code",
      "execution_count": null,
      "metadata": {
        "id": "cf8k8LKt-0UU"
      },
      "outputs": [],
      "source": []
    }
  ],
  "metadata": {
    "kernelspec": {
      "display_name": "Python 3 (ipykernel)",
      "language": "python",
      "name": "python3"
    },
    "language_info": {
      "codemirror_mode": {
        "name": "ipython",
        "version": 3
      },
      "file_extension": ".py",
      "mimetype": "text/x-python",
      "name": "python",
      "nbconvert_exporter": "python",
      "pygments_lexer": "ipython3",
      "version": "3.10.9"
    },
    "colab": {
      "provenance": [],
      "include_colab_link": true
    }
  },
  "nbformat": 4,
  "nbformat_minor": 0
}